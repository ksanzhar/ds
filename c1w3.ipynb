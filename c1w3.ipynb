{
  "nbformat": 4,
  "nbformat_minor": 0,
  "metadata": {
    "colab": {
      "name": "C1W3",
      "version": "0.3.2",
      "provenance": [],
      "toc_visible": true
    },
    "kernelspec": {
      "name": "python3",
      "display_name": "Python 3"
    }
  },
  "cells": [
    {
      "cell_type": "markdown",
      "metadata": {
        "id": "zQp4GXwLSS66",
        "colab_type": "text"
      },
      "source": [
        "# Глобальная оптимизация и оптимизация негладкой функции"
      ]
    },
    {
      "cell_type": "markdown",
      "metadata": {
        "id": "GUwZlhffpfQ6",
        "colab_type": "text"
      },
      "source": [
        "## Суть \n",
        "\n",
        "Решить задачу поиска минимума функции с помощью одного из градиентных методов оптимизации, посмотреть на отличия в работе градиентного метода и одного из методов глобальной оптимизации, а в заключение – найти глобальный минимум негладкой функции, т.е. функции, у которой не всегда определен градиент."
      ]
    },
    {
      "cell_type": "code",
      "metadata": {
        "id": "hOhKhCwLpUVn",
        "colab_type": "code",
        "colab": {}
      },
      "source": [
        "import math\n",
        "import numpy as np\n",
        "from scipy.optimize import minimize, differential_evolution\n",
        "import matplotlib.pyplot as plt"
      ],
      "execution_count": 0,
      "outputs": []
    },
    {
      "cell_type": "code",
      "metadata": {
        "id": "RhPS67UwpN2q",
        "colab_type": "code",
        "colab": {}
      },
      "source": [
        "def f(x):\n",
        "  return math.sin(x / 5) * math.exp(x / 10) + 5 * math.exp(-x / 2)"
      ],
      "execution_count": 0,
      "outputs": []
    },
    {
      "cell_type": "markdown",
      "metadata": {
        "id": "zAc7HKdwSWTR",
        "colab_type": "text"
      },
      "source": [
        "## Задача 1. Минимизация гладкой функции"
      ]
    },
    {
      "cell_type": "markdown",
      "metadata": {
        "id": "QGULBCq-qSkH",
        "colab_type": "text"
      },
      "source": [
        "Рассмотрим заданную функцию на промежутке [1, 30] "
      ]
    },
    {
      "cell_type": "code",
      "metadata": {
        "id": "9jDqiH_HP1JB",
        "colab_type": "code",
        "colab": {
          "base_uri": "https://localhost:8080/",
          "height": 286
        },
        "outputId": "fac19563-6f8e-4bf2-a316-d7c2b18bc021"
      },
      "source": [
        "data_x = np.arange(1, 30, 0.1)\n",
        "data_y = [f(x) for x in data_x]\n",
        "\n",
        "plt.plot(data_x, data_y)"
      ],
      "execution_count": 21,
      "outputs": [
        {
          "output_type": "execute_result",
          "data": {
            "text/plain": [
              "[<matplotlib.lines.Line2D at 0x7ff41b53d5c0>]"
            ]
          },
          "metadata": {
            "tags": []
          },
          "execution_count": 21
        },
        {
          "output_type": "display_data",
          "data": {
            "image/png": "[encoded data removed]",
            "text/plain": [
              "<Figure size 432x288 with 1 Axes>"
            ]
          },
          "metadata": {
            "tags": []
          }
        }
      ]
    },
    {
      "cell_type": "markdown",
      "metadata": {
        "id": "Tlbvg7ChrKEf",
        "colab_type": "text"
      },
      "source": [
        "Попробуем найти минимум, используя стандартные параметры в функции scipy.optimize.minimize (т.е. задав только функцию и начальное приближение)"
      ]
    },
    {
      "cell_type": "code",
      "metadata": {
        "id": "uE9YE_2urPX3",
        "colab_type": "code",
        "colab": {
          "base_uri": "https://localhost:8080/",
          "height": 34
        },
        "outputId": "1cc65dc2-6bb8-44c8-9cb4-75d1c6c8ca42"
      },
      "source": [
        "minimize(f, 2).fun"
      ],
      "execution_count": 24,
      "outputs": [
        {
          "output_type": "execute_result",
          "data": {
            "text/plain": [
              "1.7452682903449388"
            ]
          },
          "metadata": {
            "tags": []
          },
          "execution_count": 24
        }
      ]
    },
    {
      "cell_type": "markdown",
      "metadata": {
        "id": "nUPNC2opuBdY",
        "colab_type": "text"
      },
      "source": [
        "Посмотрим, меняется ли результат,  при изменении начального приближения"
      ]
    },
    {
      "cell_type": "code",
      "metadata": {
        "id": "xJARUJ3ZuNLH",
        "colab_type": "code",
        "colab": {
          "base_uri": "https://localhost:8080/",
          "height": 323
        },
        "outputId": "9f73b1f2-48ae-4c64-ca51-d4076e325523"
      },
      "source": [
        "sp = range(30)\n",
        "res = [minimize(f, s).fun for s in sp]\n",
        "print(res)\n",
        "plt.plot(res, sp)"
      ],
      "execution_count": 27,
      "outputs": [
        {
          "output_type": "stream",
          "text": [
            "[1.7452682903319903, 1.745268290332218, 1.7452682903449388, 1.7452682905867012, 1.7452682904133416, 1.745268290331984, 1.7452682903321235, 1.7452682903320125, 1.7452682903319738, 1.7452682903470087, 1.7452682903428007, -11.898894665981311, -11.898894665980812, -6371.7652291657405, -11.898894665981317, -11.503580757136064, -11.898894665971543, -11.898894665901345, -11.8988946659724, -11.898894665898753, -11.898894665971952, -11.89889466593321, -11.898894665981025, -11.89889466598132, -11.898894665979714, -11.89889466596626, -11.898894665979789, -11.898894665974735, -11.898894665981295, -11.89889466594364]\n"
          ],
          "name": "stdout"
        },
        {
          "output_type": "execute_result",
          "data": {
            "text/plain": [
              "[<matplotlib.lines.Line2D at 0x7ff41266c7f0>]"
            ]
          },
          "metadata": {
            "tags": []
          },
          "execution_count": 27
        },
        {
          "output_type": "display_data",
          "data": {
            "image/png": "[encoded data removed]",
            "text/plain": [
              "<Figure size 432x288 with 1 Axes>"
            ]
          },
          "metadata": {
            "tags": []
          }
        }
      ]
    },
    {
      "cell_type": "markdown",
      "metadata": {
        "id": "nDUuVo7Vu7zf",
        "colab_type": "text"
      },
      "source": [
        "Укажем в качестве метода BFGS (один из самых точных в большинстве случаев градиентных методов оптимизации), и начальное приближение x=2. Градиент функции при этом указывать не нужно – он будет оценен численно. Полученное значение функции в точке минимума -  первый ответ по заданию 1, его надо записать с точностью до 2 знака после запятой"
      ]
    },
    {
      "cell_type": "code",
      "metadata": {
        "id": "7Q3CHxV0vIGL",
        "colab_type": "code",
        "colab": {
          "base_uri": "https://localhost:8080/",
          "height": 34
        },
        "outputId": "8c5188f7-40ee-4e1b-eaa2-de0e744b36a3"
      },
      "source": [
        "answ11 = round(minimize(f, 2, method='BFGS').fun, 2)\n",
        "answ11"
      ],
      "execution_count": 30,
      "outputs": [
        {
          "output_type": "execute_result",
          "data": {
            "text/plain": [
              "1.75"
            ]
          },
          "metadata": {
            "tags": []
          },
          "execution_count": 30
        }
      ]
    },
    {
      "cell_type": "markdown",
      "metadata": {
        "id": "U5oUckI5vhmW",
        "colab_type": "text"
      },
      "source": [
        "Изменим начальное приближение на x=30. Значение функции в точке минимума -  второй ответ по заданию 1, его надо записать через пробел после первого, с точностью до 2 знака после запятой."
      ]
    },
    {
      "cell_type": "code",
      "metadata": {
        "id": "9QxdzrmEvoPf",
        "colab_type": "code",
        "colab": {
          "base_uri": "https://localhost:8080/",
          "height": 34
        },
        "outputId": "7f4bf222-3a66-4807-da0b-bcb32a472360"
      },
      "source": [
        "answ12 = round(minimize(f, 30, method='BFGS').fun, 2)\n",
        "answ12"
      ],
      "execution_count": 31,
      "outputs": [
        {
          "output_type": "execute_result",
          "data": {
            "text/plain": [
              "-11.9"
            ]
          },
          "metadata": {
            "tags": []
          },
          "execution_count": 31
        }
      ]
    },
    {
      "cell_type": "markdown",
      "metadata": {
        "id": "KKNLFoUIwXBX",
        "colab_type": "text"
      },
      "source": [
        "В самом деле, градиентные методы обычно не решают задачу глобальной оптимизации, поэтому результаты работы ожидаемые и вполне корректные. Запишем файл с ответом"
      ]
    },
    {
      "cell_type": "code",
      "metadata": {
        "id": "OjpECMG1waT_",
        "colab_type": "code",
        "colab": {
          "base_uri": "https://localhost:8080/",
          "height": 34
        },
        "outputId": "ee465885-bd98-4f4a-aba8-c2ea3c2a4c7e"
      },
      "source": [
        "answer = '{} {}'.format(answ11, answ12) \n",
        "with open('C1W3 answer 1', 'w') as output_file:\n",
        "  output_file.write(answer)\n",
        "answer"
      ],
      "execution_count": 33,
      "outputs": [
        {
          "output_type": "execute_result",
          "data": {
            "text/plain": [
              "'1.75 -11.9'"
            ]
          },
          "metadata": {
            "tags": []
          },
          "execution_count": 33
        }
      ]
    },
    {
      "cell_type": "markdown",
      "metadata": {
        "id": "oXTOU8ZbxAou",
        "colab_type": "text"
      },
      "source": [
        "## Задача 2. Глобальная оптимизация\n",
        "Теперь попробуем применить к той же функции f(x) метод глобальной оптимизации — дифференциальную эволюцию.  \n",
        "Запустим поиск минимума функции f(x) с помощью дифференциальной эволюции на промежутке [1, 30]. Полученное значение функции в точке минимума - ответ в задаче 2. "
      ]
    },
    {
      "cell_type": "code",
      "metadata": {
        "id": "JOwtKKBGxVPf",
        "colab_type": "code",
        "colab": {
          "base_uri": "https://localhost:8080/",
          "height": 34
        },
        "outputId": "a32cfaf3-6e99-406f-ff6a-5f114ef0f013"
      },
      "source": [
        "answer2 = str(round(differential_evolution(f, bounds=[(1,30)]).fun, 2))\n",
        "with open('C1W3 answer 2', 'w') as output_file:\n",
        "  output_file.write(answer2)\n",
        "answer2"
      ],
      "execution_count": 38,
      "outputs": [
        {
          "output_type": "execute_result",
          "data": {
            "text/plain": [
              "'-11.9'"
            ]
          },
          "metadata": {
            "tags": []
          },
          "execution_count": 38
        }
      ]
    },
    {
      "cell_type": "markdown",
      "metadata": {
        "id": "EQv2b8RR2So-",
        "colab_type": "text"
      },
      "source": [
        "## Задача 3. Минимизация негладкой функции\n",
        "Теперь рассмотрим функцию h(x) = int(f(x)) на том же отрезке [1, 30], т.е. теперь каждое значение f(x) приводится к типу int и функция принимает только целые значения."
      ]
    },
    {
      "cell_type": "markdown",
      "metadata": {
        "id": "u8vC7Bli2sjv",
        "colab_type": "text"
      },
      "source": [
        "Такая функция будет негладкой, а ее график будет иметь ступенчатый вид. Убедимся в этом, построив график h(x) с помощью matplotlib"
      ]
    },
    {
      "cell_type": "code",
      "metadata": {
        "id": "_0JQg6lS2hiO",
        "colab_type": "code",
        "colab": {
          "base_uri": "https://localhost:8080/",
          "height": 286
        },
        "outputId": "3f246b24-342e-4f19-a09e-e0d05c609967"
      },
      "source": [
        "def h(x):\n",
        "  return int(f(x))\n",
        "\n",
        "\n",
        "data_y_by_h = [h(x) for x in data_x]   \n",
        "plt.plot(data_x, data_y_by_h)"
      ],
      "execution_count": 52,
      "outputs": [
        {
          "output_type": "execute_result",
          "data": {
            "text/plain": [
              "[<matplotlib.lines.Line2D at 0x7ff412541c18>]"
            ]
          },
          "metadata": {
            "tags": []
          },
          "execution_count": 52
        },
        {
          "output_type": "display_data",
          "data": {
            "image/png": "[encoded data removed]",
            "text/plain": [
              "<Figure size 432x288 with 1 Axes>"
            ]
          },
          "metadata": {
            "tags": []
          }
        }
      ]
    },
    {
      "cell_type": "markdown",
      "metadata": {
        "id": "t6La_IWB3SpX",
        "colab_type": "text"
      },
      "source": [
        "Попробуем найти минимум функции h(x) с помощью BFGS, взяв в качестве начального приближения x=30. Получившееся значение функции – первый ответ в этой задаче"
      ]
    },
    {
      "cell_type": "code",
      "metadata": {
        "id": "AnfFz_m23YxI",
        "colab_type": "code",
        "colab": {
          "base_uri": "https://localhost:8080/",
          "height": 34
        },
        "outputId": "f2d7525c-e322-47b0-a132-fbe7eb860333"
      },
      "source": [
        "answ31 = minimize(h, 30, method='BFGS').fun\n",
        "answ31"
      ],
      "execution_count": 56,
      "outputs": [
        {
          "output_type": "execute_result",
          "data": {
            "text/plain": [
              "-5"
            ]
          },
          "metadata": {
            "tags": []
          },
          "execution_count": 56
        }
      ]
    },
    {
      "cell_type": "markdown",
      "metadata": {
        "id": "u7ZGWYRw3r6W",
        "colab_type": "text"
      },
      "source": [
        "Теперь попробуем найти минимум h(x) на отрезке [1, 30] с помощью дифференциальной эволюции. Значение функции h(x) в точке минимума – это второй ответ в этом задании"
      ]
    },
    {
      "cell_type": "code",
      "metadata": {
        "id": "RuYvi3uG3zgX",
        "colab_type": "code",
        "colab": {
          "base_uri": "https://localhost:8080/",
          "height": 34
        },
        "outputId": "60b3e282-434e-4e05-fe13-18c6641b99d0"
      },
      "source": [
        "answ32 = differential_evolution(h, bounds=[(1,30)]).fun\n",
        "answ32"
      ],
      "execution_count": 58,
      "outputs": [
        {
          "output_type": "execute_result",
          "data": {
            "text/plain": [
              "-11.0"
            ]
          },
          "metadata": {
            "tags": []
          },
          "execution_count": 58
        }
      ]
    },
    {
      "cell_type": "markdown",
      "metadata": {
        "id": "GCqoxcdM4RJf",
        "colab_type": "text"
      },
      "source": [
        "Полученные ответы различаются. Это ожидаемый результат, ведь BFGS использует градиент (в одномерном случае – производную) и явно не пригоден для минимизации рассмотренной нами разрывной функции"
      ]
    },
    {
      "cell_type": "code",
      "metadata": {
        "id": "99ddRJCA4aOo",
        "colab_type": "code",
        "colab": {
          "base_uri": "https://localhost:8080/",
          "height": 34
        },
        "outputId": "70cdbf38-1257-41aa-f6fb-94c1541a2520"
      },
      "source": [
        "answer3 = '{} {}'.format(answ31, answ32) \n",
        "with open('C1W3 answer 3', 'w') as output_file:\n",
        "  output_file.write(answer3)\n",
        "answer3"
      ],
      "execution_count": 59,
      "outputs": [
        {
          "output_type": "execute_result",
          "data": {
            "text/plain": [
              "'-5 -11.0'"
            ]
          },
          "metadata": {
            "tags": []
          },
          "execution_count": 59
        }
      ]
    }
  ]
}
